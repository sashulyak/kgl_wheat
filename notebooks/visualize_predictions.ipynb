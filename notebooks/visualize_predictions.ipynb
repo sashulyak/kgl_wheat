{
 "cells": [
  {
   "cell_type": "code",
   "execution_count": 1,
   "metadata": {},
   "outputs": [],
   "source": [
    "import numpy as np\n",
    "import cv2\n",
    "import matplotlib.pyplot as plt\n",
    "import tensorflow as tf\n",
    "\n",
    "from kgl_wheat.utils import postprocess_bboxes, read_train_csv, get_train_val_split\n",
    "from kgl_wheat import config\n",
    "from kgl_wheat.dataset import get_dataset\n",
    "from kgl_wheat.efficientdet.layers import(\n",
    "    FixedDropout,\n",
    "    wBiFPNAdd,\n",
    "    ClipBoxes,\n",
    "    RegressBoxes,\n",
    "    FilterDetections\n",
    ")\n",
    "from kgl_wheat.efficientdet.initializers import PriorProbability\n",
    "from kgl_wheat.efficientdet.model import efficientdet"
   ]
  },
  {
   "cell_type": "code",
   "execution_count": 2,
   "metadata": {},
   "outputs": [],
   "source": [
    "model, prediction_model = efficientdet(\n",
    "        num_classes=1,\n",
    "        weighted_bifpn=True,\n",
    "        freeze_bn=True,\n",
    "        score_threshold=config.SCORE_THRESHOLD\n",
    "    )\n",
    "\n",
    "prediction_model.load_weights(config.MODEL_WEIGHTS_PATH, by_name=True)\n",
    "\n",
    "# prediction_model = tf.keras.models.load_model(\n",
    "#     filepath=config.MODEL_WEIGHTS_PRED_PATH,\n",
    "#     custom_objects={\n",
    "#         'FixedDropout': FixedDropout,\n",
    "#         'wBiFPNAdd': wBiFPNAdd,\n",
    "#         'ClipBoxes': ClipBoxes,\n",
    "#         'RegressBoxes': RegressBoxes,\n",
    "#         'FilterDetections': FilterDetections,\n",
    "#         'PriorProbability': PriorProbability\n",
    "#     }\n",
    "# )"
   ]
  },
  {
   "cell_type": "code",
   "execution_count": 3,
   "metadata": {
    "scrolled": false
   },
   "outputs": [],
   "source": [
    "tf.random.set_seed(22)\n",
    "np.random.seed(22)\n",
    "\n",
    "image_paths, bboxes, image_sources = read_train_csv(\n",
    "    train_csv_path=config.TRAIN_LABELS_FILE,\n",
    "    train_images_dir=config.TRAIN_IMAGES_DIR\n",
    ")\n",
    "\n",
    "train_image_paths, train_bboxes, val_image_paths, val_bboxes = \\\n",
    "    get_train_val_split(\n",
    "        image_paths=image_paths,\n",
    "        image_bboxes=bboxes,\n",
    "        image_sources=image_sources,\n",
    "        seed=config.SEED,\n",
    "        train_size=config.TRAIN_SIZE\n",
    "    )\n",
    "\n",
    "val_dataset = get_dataset(\n",
    "    image_paths=val_image_paths,\n",
    "    bboxes=None\n",
    ")"
   ]
  },
  {
   "cell_type": "code",
   "execution_count": 4,
   "metadata": {},
   "outputs": [
    {
     "name": "stdout",
     "output_type": "stream",
     "text": [
      "264/264 [==============================] - 98s 373ms/step\n"
     ]
    }
   ],
   "source": [
    "pred_bboxes, pred_scores, pred_labels = prediction_model.predict(val_dataset, verbose=1)\n",
    "\n",
    "pred_bboxes, pred_scores, pred_labels = np.squeeze(pred_bboxes), np.squeeze(pred_scores), np.squeeze(pred_labels)\n",
    "\n",
    "pred_bboxes = postprocess_bboxes(bboxes=pred_bboxes, height=config.IMAGE_SIZE, width=config.IMAGE_SIZE)"
   ]
  },
  {
   "cell_type": "code",
   "execution_count": 5,
   "metadata": {},
   "outputs": [],
   "source": [
    "pred_bboxes_filtered = []\n",
    "pred_scores_filtered = []\n",
    "for image_pred_bboxes, image_pred_scores in zip(pred_bboxes, pred_scores):\n",
    "    indices = image_pred_scores > config.SCORE_THRESHOLD\n",
    "    pred_bboxes_filtered.append(image_pred_bboxes[indices])\n",
    "    pred_scores_filtered.append(image_pred_scores[indices])"
   ]
  },
  {
   "cell_type": "code",
   "execution_count": 6,
   "metadata": {
    "scrolled": true
   },
   "outputs": [],
   "source": [
    "# uncomment to plot detections\n",
    "# for image_bboxes, image_path in list(zip(pred_bboxes_filtered, val_image_paths))[:10]:\n",
    "#     image = cv2.imread(image_path)\n",
    "#     image = cv2.cvtColor(image, cv2.COLOR_BGR2RGB)\n",
    "#     for bbox in image_bboxes:\n",
    "#         cv2.rectangle(\n",
    "#             image,\n",
    "#             (bbox[0], bbox[1]),\n",
    "#             (bbox[0]+bbox[2], bbox[1]+bbox[3]),\n",
    "#             (255,0,0)\n",
    "#         )\n",
    "#     plt.figure(figsize=(10,10))\n",
    "#     plt.imshow(image)\n",
    "#     plt.show()"
   ]
  },
  {
   "cell_type": "code",
   "execution_count": 7,
   "metadata": {},
   "outputs": [],
   "source": [
    "# For debugging\n",
    "# prediction_model.save(config.MODEL_WEIGHTS_PRED_PATH)"
   ]
  },
  {
   "cell_type": "code",
   "execution_count": null,
   "metadata": {},
   "outputs": [],
   "source": []
  }
 ],
 "metadata": {
  "kernelspec": {
   "display_name": "Python 3",
   "language": "python",
   "name": "python3"
  },
  "language_info": {
   "codemirror_mode": {
    "name": "ipython",
    "version": 3
   },
   "file_extension": ".py",
   "mimetype": "text/x-python",
   "name": "python",
   "nbconvert_exporter": "python",
   "pygments_lexer": "ipython3",
   "version": "3.7.4"
  }
 },
 "nbformat": 4,
 "nbformat_minor": 2
}
